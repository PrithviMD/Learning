{
 "cells": [
  {
   "cell_type": "code",
   "execution_count": 1,
   "metadata": {},
   "outputs": [
    {
     "ename": "SyntaxError",
     "evalue": "invalid syntax (<ipython-input-1-7addd3634a97>, line 1)",
     "output_type": "error",
     "traceback": [
      "\u001b[1;36m  File \u001b[1;32m\"<ipython-input-1-7addd3634a97>\"\u001b[1;36m, line \u001b[1;32m1\u001b[0m\n\u001b[1;33m    It was a lonely day, Just realized my love is far far away.\u001b[0m\n\u001b[1;37m       ^\u001b[0m\n\u001b[1;31mSyntaxError\u001b[0m\u001b[1;31m:\u001b[0m invalid syntax\n"
     ]
    }
   ],
   "source": [
    "It was a lonely day, Just realized my love is far far away.\n",
    "My love I want you for the eternity that’s the only thing I pray.\n",
    "The new thing that is seen between us is the distance.\n",
    "Me keeping fine without Seeing and hugging you is the only built resistance.\n",
    " \n",
    "I think about you before I sleep, I think about you once I wake up.\n",
    "My love you look so beautiful even without a make up. 🤣\n",
    "Seeing our old pictures I wonder how time has passed.\n",
    "We should definitely revisit the places when the memories are called.\n",
    " \n",
    "We fight we cuddle ,we love we hate, Through the time we have been strong.\n",
    "Messages, video calls, whatsapp and telegram with all these does this distance feel long ?\n",
    "My papu, my beautiful please consider this apologies for all the pain I have given.\n",
    "For all those who looks at you. Let all them know you are already taken ❤️\n",
    "name name name"
   ]
  }
 ],
 "metadata": {
  "kernelspec": {
   "display_name": "Python 3",
   "language": "python",
   "name": "python3"
  },
  "language_info": {
   "codemirror_mode": {
    "name": "ipython",
    "version": 3
   },
   "file_extension": ".py",
   "mimetype": "text/x-python",
   "name": "python",
   "nbconvert_exporter": "python",
   "pygments_lexer": "ipython3",
   "version": "3.8.5"
  }
 },
 "nbformat": 4,
 "nbformat_minor": 4
}
